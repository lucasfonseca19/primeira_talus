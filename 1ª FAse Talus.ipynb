{
 "cells": [
  {
   "cell_type": "markdown",
   "metadata": {},
   "source": [
    "Muitos cursos sobre Machine Learning que você acha por ai costumam seguir quase que uma receita de bolo 🎂."
   ]
  },
  {
   "cell_type": "markdown",
   "metadata": {},
   "source": [
    " Você vai aprendendo os fundamentos da área com exemplos clássicos e com o uso de famosas bibliotecas como o ScikitLearn ou até TensoFlow."
   ]
  },
  {
   "cell_type": "markdown",
   "metadata": {},
   "source": [
    "Enquanto você segue as aulas parece tudo relativamente simples e você fica até empolgado a se aventurar em terras desconhecidas, ou seja, projetos novos, poucos explorados pela comunidade. E é nesse ponto que a maioria das pessoas encontra uma barreira."
   ]
  },
  {
   "cell_type": "markdown",
   "metadata": {},
   "source": [
    " O que acontece é que ao longo do treinamento elas foram aprendendo a aplicação de inúmeras funções de inúmeras bibliotecas mas o que comumente acontece é que essas funções são tratadas como caixas mágicas que retornam o desejado, pouco é abordado o que acontece ali dentro."
   ]
  },
  {
   "cell_type": "markdown",
   "metadata": {},
   "source": [
    " Essa abordagem mais superficial talvez te deixe preparado para a resolução de problemas semelhantes mas ao se deparar com algo levemente diferente você pode vir a \"travar\". Veja bem, não é necessário entender tudo nos mínimos detalhes mas certamente compreender o funcionamento de certas funções te possibilita generalizá-las e assim aplicá-las mais facilmente em vários casos."
   ]
  },
  {
   "cell_type": "markdown",
   "metadata": {},
   "source": [
    "Bem, tendo isso em mente, queremos que você aprenda uma ferramenta muito utilizada para classificação de dados. Vocês deverão desenvolver um algorítmo de **'Clusterização'** conhecido como **'K-Nearest Neighbors'**.\n",
    "Nesse momento você deve estar se perguntando o que é clusterização e como funciona esse dado método.\n",
    "\n",
    "\n",
    "Pois bem, de uma forma simples, podemos dizer que a **Clusterização** é o processo no qual se divide certos dados em vários grupos (clusters) de forma que os dados de um mesmo grupo sejam mais semelhantes entre si do que com dados de outros grupos. \n",
    "\n",
    "\n",
    "Já o método consiste simplismente em calcular a distância (Euclidiana, Manhattan ...) entre o novo datapoint (o novo pedaço de informação) e todos os outros datapoints que temos em noso dataset (todo o conjunto de dados usado). Então é selecionado os K (podendo k ser qualquer número inteiro) datapoints mais próximos para então o novo datapoint ser alocado ao grupo composto pela maioria desses k datapoints. \n",
    "\n",
    "\n",
    "Pode ter ficado confuso né? Tente dar uma olhada na animação a baixo:\n",
    "\n",
    "![display image](https://machinelearningknowledge.ai/wp-content/uploads/2018/08/KNN-Classification.gif)\n",
    "\n"
   ]
  },
  {
   "cell_type": "markdown",
   "metadata": {},
   "source": [
    "Esse e diversos outros métodos são facilmente encontrados em algumas bibliotecas, mas, novamente, queremos que você desevolva o algorítimo \"do zero\" para em seguida utilizá-lo em um problema relativamente simples, a classificação de flores \"Iris\".\n",
    "Esse projeto, por muitos, é considerado o \"Hello World\" do mundo do Machine Learning e certamente você achará uma infinidade de informações e tutoriais sobre como trabalhá-lo, mas fique atento que um dos desafios é você conseguir filtrar tudo isso e traduzir de forma concisa para o que estamos lhe pedindo."
   ]
  },
  {
   "cell_type": "markdown",
   "metadata": {},
   "source": [
    "Vamos lá:"
   ]
  },
  {
   "cell_type": "markdown",
   "metadata": {},
   "source": [
    "Em seguida se encontram as **únicas** bibliotecas as quais você pode utílizar, rode a linha abaixo para importá-las:"
   ]
  },
  {
   "cell_type": "code",
   "execution_count": 1,
   "metadata": {},
   "outputs": [],
   "source": [
    "import numpy as np\n",
    "import matplotlib.pyplot as plt\n",
    "import pandas as pd"
   ]
  },
  {
   "cell_type": "markdown",
   "metadata": {},
   "source": [
    "Comece importando o dataset IRIS.csv e mostrando suas 5 primeiras linhas, isso ajudará a visualisar o funcionamento do KNN."
   ]
  },
  {
   "cell_type": "code",
   "execution_count": 14,
   "metadata": {},
   "outputs": [],
   "source": [
    "# Importe e mostre as cinco primeiras linhas do dataset nesta célula\n",
    "\n",
    "\n",
    "\n",
    "\n",
    "\n",
    "\n",
    "\n",
    "\n",
    "\n",
    "\n"
   ]
  },
  {
   "cell_type": "markdown",
   "metadata": {},
   "source": [
    "Como você pode ver (eu deveria estar vendo), cada linha representa uma flor que contém 4 variáveis numéricas que estão diretamente associadas a sua classificação em uma varíavel categórica (que nesse caso é o tipo de flor).\n",
    "\n",
    "Você pode imaginar que cada linha é um vetor.\n",
    "\n",
    "É mais comum que você esteja habituado a vetores de três dimensões [x,y,z], com cada elemento indicando uma coordenada no dado eixo. A diferença aqui é que temos uma dimensão a mais. Não quebre a cabeça tentando imaginar um espaço veotiral 4D, só entenda que o raciocínio é o mesmo. Cada elemento determinará de certa forma a posição do vetor.\n",
    "\n",
    "Sabendo sua posição, podemos então calcular a sua distância até outro vetor (ou outra flor, no caso).\n",
    "\n",
    "Como já mencionado, há inúmeras formas de calcular isso, mas de modo a facilitar queremos que seja calculada a **distância euclidiana** entre eles."
   ]
  },
  {
   "cell_type": "markdown",
   "metadata": {},
   "source": [
    "A distância euclidiana é dada pela seguinte equação matemática:\n",
    "    \n",
    "\n",
    "$$d(p, q)=\\sqrt{\\left(p_{1}-q_{1}\\right)^{2}+\\left(p_{2}-q_{2}\\right)^{2}+\\ldots+\\left(p_{n}-q_{n}\\right)^{2}}$$\n",
    "       \n",
    "       \n",
    "       \n",
    "       \n",
    "       \n",
    "       !!!! (ALGUÉM ME AJUDA A EXPLICAR DE UMA FORMA LEGAL ??)\n",
    "\n",
    "\n"
   ]
  },
  {
   "cell_type": "code",
   "execution_count": 11,
   "metadata": {},
   "outputs": [],
   "source": [
    "# Implemente a função anterior aqui:\n"
   ]
  },
  {
   "cell_type": "code",
   "execution_count": null,
   "metadata": {},
   "outputs": [],
   "source": []
  }
 ],
 "metadata": {
  "kernelspec": {
   "display_name": "Python 3",
   "language": "python",
   "name": "python3"
  },
  "language_info": {
   "codemirror_mode": {
    "name": "ipython",
    "version": 3
   },
   "file_extension": ".py",
   "mimetype": "text/x-python",
   "name": "python",
   "nbconvert_exporter": "python",
   "pygments_lexer": "ipython3",
   "version": "3.7.6"
  }
 },
 "nbformat": 4,
 "nbformat_minor": 4
}
